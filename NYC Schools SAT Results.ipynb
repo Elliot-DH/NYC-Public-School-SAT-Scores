{
 "cells": [
  {
   "cell_type": "markdown",
   "metadata": {},
   "source": [
    "# What NYC schools have the best math results?"
   ]
  },
  {
   "cell_type": "code",
   "execution_count": 2,
   "metadata": {},
   "outputs": [],
   "source": [
    "import pandas as pd\n",
    "import matplotlib.pyplot as plt\n",
    "import numpy as np"
   ]
  },
  {
   "cell_type": "code",
   "execution_count": 4,
   "metadata": {},
   "outputs": [],
   "source": [
    "#Importing file\n",
    "schools = pd.read_csv(\"schools.csv\")"
   ]
  },
  {
   "cell_type": "code",
   "execution_count": 6,
   "metadata": {},
   "outputs": [
    {
     "name": "stdout",
     "output_type": "stream",
     "text": [
      "                                           school_name  average_math  \\\n",
      "88                              Stuyvesant High School           754   \n",
      "170                       Bronx High School of Science           714   \n",
      "93                 Staten Island Technical High School           711   \n",
      "365  Queens High School for the Sciences at York Co...           701   \n",
      "68   High School for Mathematics, Science, and Engi...           683   \n",
      "\n",
      "     maths_percentage  \n",
      "88             94.250  \n",
      "170            89.250  \n",
      "93             88.875  \n",
      "365            87.625  \n",
      "68             85.375  \n"
     ]
    }
   ],
   "source": [
    "schools[\"maths_percentage\"] = (schools[\"average_math\"] / 800) * 100\n",
    "\n",
    "best_math_schools = schools[[\"school_name\", \"average_math\", \"maths_percentage\"]].sort_values(by = \"average_math\", ascending = False)\n",
    "print(best_math_schools.head())"
   ]
  },
  {
   "cell_type": "markdown",
   "metadata": {},
   "source": [
    "# What are the top 10 performing schools based on the combined SAT scores?"
   ]
  },
  {
   "cell_type": "code",
   "execution_count": 9,
   "metadata": {},
   "outputs": [
    {
     "name": "stdout",
     "output_type": "stream",
     "text": [
      "                                           school_name  total_SAT\n",
      "88                              Stuyvesant High School       2144\n",
      "170                       Bronx High School of Science       2041\n",
      "93                 Staten Island Technical High School       2041\n",
      "174  High School of American Studies at Lehman College       2013\n",
      "333                        Townsend Harris High School       1981\n",
      "365  Queens High School for the Sciences at York Co...       1947\n",
      "5                       Bard High School Early College       1914\n",
      "280                     Brooklyn Technical High School       1896\n",
      "45                       Eleanor Roosevelt High School       1889\n",
      "68   High School for Mathematics, Science, and Engi...       1889\n"
     ]
    }
   ],
   "source": [
    "schools[\"total_SAT\"] = schools[\"average_math\"] + schools[\"average_reading\"] + schools[\"average_writing\"]\n",
    "\n",
    "top_10_schools = schools[[\"school_name\", \"total_SAT\"]].sort_values(by = \"total_SAT\", ascending = False)\n",
    "print(top_10_schools.head(10))"
   ]
  },
  {
   "cell_type": "markdown",
   "metadata": {},
   "source": [
    "# What borough has the largest standard deviation in the combined SAT score?"
   ]
  },
  {
   "cell_type": "code",
   "execution_count": 16,
   "metadata": {},
   "outputs": [
    {
     "name": "stdout",
     "output_type": "stream",
     "text": [
      "               num_schools  average_SAT  std_SAT\n",
      "borough                                         \n",
      "Bronx                   98      1202.72   150.39\n",
      "Brooklyn               109      1230.26   154.87\n",
      "Manhattan               89      1340.13   230.29\n",
      "Queens                  69      1345.48   195.25\n",
      "Staten Island           10      1439.00   222.30\n"
     ]
    }
   ],
   "source": [
    "boroughs = schools.groupby(\"borough\")[\"total_SAT\"].agg(num_schools=(\"count\"), average_SAT=(\"mean\"), std_SAT=(\"std\")).round(2)\n",
    "print(boroughs)"
   ]
  },
  {
   "cell_type": "code",
   "execution_count": null,
   "metadata": {},
   "outputs": [],
   "source": []
  }
 ],
 "metadata": {
  "kernelspec": {
   "display_name": "Python 3",
   "language": "python",
   "name": "python3"
  },
  "language_info": {
   "codemirror_mode": {
    "name": "ipython",
    "version": 3
   },
   "file_extension": ".py",
   "mimetype": "text/x-python",
   "name": "python",
   "nbconvert_exporter": "python",
   "pygments_lexer": "ipython3",
   "version": "3.8.3"
  }
 },
 "nbformat": 4,
 "nbformat_minor": 4
}
